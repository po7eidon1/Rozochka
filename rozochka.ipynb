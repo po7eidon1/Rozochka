{
 "cells": [
  {
   "cell_type": "code",
   "execution_count": 6,
   "id": "c7088088-a755-4235-b396-07e939c31787",
   "metadata": {
    "tags": []
   },
   "outputs": [
    {
     "name": "stdout",
     "output_type": "stream",
     "text": [
      "Косинусное сходство с Ivanchuk: 0.7537\n",
      "Косинусное сходство с Yanchenko: 0.9445\n",
      "Косинусное сходство с Denisova: 0.5880\n",
      "Косинусное сходство с Dedyaeva: 0.9168\n",
      "Косинусное сходство с Usmanov: 0.9476\n",
      "\n",
      "Ближайший вектор к Ostrovskiy — Usmanov с косинусным сходством 0.9476\n"
     ]
    }
   ],
   "source": [
    "import numpy as np\n",
    "\n",
    "Ostrovskiy = np.array([85, 18, 12, 57, 95])\n",
    "Ivanchuk = np.array([52, 77, 27, 92, 35])\n",
    "Yanchenko = np.array([56, 43, 14, 28, 65])\n",
    "Denisova = np.array([15, 50, 80, 30, 45])\n",
    "Dedyaeva = np.array([77, 13, 54, 33, 66])\n",
    "Usmanov = np.array([57, 17, 37, 25, 77])\n",
    "\n",
    "# Словарь с именами и векторами\n",
    "vectors = {\n",
    "    \"Ivanchuk\": Ivanchuk,\n",
    "    \"Yanchenko\": Yanchenko,\n",
    "    \"Denisova\": Denisova,\n",
    "    \"Dedyaeva\": Dedyaeva,\n",
    "    \"Usmanov\": Usmanov\n",
    "}\n",
    "\n",
    "# Переменные для хранения имени и значения ближайшего вектора\n",
    "closest_name = None\n",
    "max_similarity = -1\n",
    "\n",
    "# Рассчитываем косинусное сходство с каждым вектором\n",
    "for name, vector in vectors.items():\n",
    "    cosine_similarity = np.dot(Ostrovskiy, vector) / (np.linalg.norm(Ostrovskiy) * np.linalg.norm(vector))\n",
    "    print(f\"Косинусное сходство с {name}: {cosine_similarity:.4f}\")\n",
    "    \n",
    "    # Проверяем, является ли это максимальным сходством\n",
    "    if cosine_similarity > max_similarity:\n",
    "        max_similarity = cosine_similarity\n",
    "        closest_name = name\n",
    "\n",
    "# Выводим ближайший вектор и его имя\n",
    "print(f\"\\nБлижайший вектор к Ostrovskiy — {closest_name} с косинусным сходством {max_similarity:.4f}\")\n"
   ]
  },
  {
   "cell_type": "code",
   "execution_count": 7,
   "id": "73e72684-91f3-4649-aaa4-dd9d54b26f08",
   "metadata": {
    "tags": []
   },
   "outputs": [
    {
     "name": "stdout",
     "output_type": "stream",
     "text": [
      "Косинусовое расстояние с Ivanchuk: 0.2463\n",
      "Косинусовое расстояние с Yanchenko: 0.0555\n",
      "Косинусовое расстояние с Denisova: 0.4120\n",
      "Косинусовое расстояние с Dedyaeva: 0.0832\n",
      "Косинусовое расстояние с Usmanov: 0.0524\n",
      "\n",
      "Ближайший вектор к Ostrovskiy — Usmanov с косинусовым расстоянием 0.0524\n"
     ]
    }
   ],
   "source": [
    "import numpy as np\n",
    "\n",
    "# Функция для расчета косинусного расстояния\n",
    "def cosine_distance(vector1, vector2):\n",
    "    return 1 - (np.dot(vector1, vector2) / (np.linalg.norm(vector1) * np.linalg.norm(vector2)))\n",
    "\n",
    "# Векторы \"розочек\"\n",
    "Ostrovskiy = np.array([85, 18, 12, 57, 95])\n",
    "Ivanchuk = np.array([52, 77, 27, 92, 35])\n",
    "Yanchenko = np.array([56, 43, 14, 28, 65])\n",
    "Denisova = np.array([15, 50, 80, 30, 45])\n",
    "Dedyaeva = np.array([77, 13, 54, 33, 66])\n",
    "Usmanov = np.array([57, 17, 37, 25, 77])\n",
    "\n",
    "# Словарь с именами и векторами\n",
    "vectors = {\n",
    "    \"Ivanchuk\": Ivanchuk,\n",
    "    \"Yanchenko\": Yanchenko,\n",
    "    \"Denisova\": Denisova,\n",
    "    \"Dedyaeva\": Dedyaeva,\n",
    "    \"Usmanov\": Usmanov\n",
    "}\n",
    "\n",
    "# Переменные для хранения имени и минимального расстояния\n",
    "closest_name = None\n",
    "min_distance = float('inf')\n",
    "\n",
    "# Рассчитываем косинусовое расстояние с каждым вектором\n",
    "for name, vector in vectors.items():\n",
    "    distance = cosine_distance(Ostrovskiy, vector)\n",
    "    print(f\"Косинусовое расстояние с {name}: {distance:.4f}\")\n",
    "    \n",
    "    # Проверяем, является ли это минимальным расстоянием\n",
    "    if distance < min_distance:\n",
    "        min_distance = distance\n",
    "        closest_name = name\n",
    "\n",
    "# Выводим ближайший вектор и его имя\n",
    "print(f\"\\nБлижайший вектор к Ostrovskiy — {closest_name} с косинусовым расстоянием {min_distance:.4f}\")\n"
   ]
  },
  {
   "cell_type": "code",
   "execution_count": null,
   "id": "bda5ff07-79e0-4a48-9658-ce7d97bb9950",
   "metadata": {},
   "outputs": [],
   "source": []
  }
 ],
 "metadata": {
  "kernelspec": {
   "display_name": "Artem",
   "language": "python",
   "name": "ostrovskij_av"
  },
  "language_info": {
   "codemirror_mode": {
    "name": "ipython",
    "version": 3
   },
   "file_extension": ".py",
   "mimetype": "text/x-python",
   "name": "python",
   "nbconvert_exporter": "python",
   "pygments_lexer": "ipython3",
   "version": "3.9.7"
  }
 },
 "nbformat": 4,
 "nbformat_minor": 5
}
